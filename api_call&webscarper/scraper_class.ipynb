{
 "cells": [
  {
   "cell_type": "markdown",
   "metadata": {},
   "source": [
    "# Notebook Demonstrating Scraper Object"
   ]
  },
  {
   "cell_type": "code",
   "execution_count": 1,
   "metadata": {},
   "outputs": [],
   "source": [
    "import configparser\n",
    "from scraper import QAScraper"
   ]
  },
  {
   "cell_type": "code",
   "execution_count": 2,
   "metadata": {},
   "outputs": [],
   "source": [
    "config = configparser.ConfigParser()\n",
    "config.read('config.ini')\n",
    "\n",
    "# Dictionary with praw (Python Reddit API Wrapper) credentials\n",
    "config_dict = {\n",
    "    'client_id': config.get('reddit', 'ID'),\n",
    "    'client_secret': config.get('reddit', 'SECRET'),\n",
    "    'username': config.get('reddit', 'USERNAME'),\n",
    "    'password': config.get('reddit', 'PASSWORD'),\n",
    "    'user_agent': config.get('reddit', 'AGENT'),\n",
    "}"
   ]
  },
  {
   "cell_type": "code",
   "execution_count": 3,
   "metadata": {},
   "outputs": [],
   "source": [
    "scraper = QAScraper()"
   ]
  },
  {
   "cell_type": "markdown",
   "metadata": {},
   "source": [
    "## How to use scraper\n",
    "The scraper can retrieve Stack Overflow queries by topic and posts on Reddit by subreddit.\n",
    "\n",
    "Methods:\n",
    "- ```.get_stack_overflow```: Retrieve Stack Overflow queries by topic\n",
    "    - Parameters: maximum number of pages retrieved, list of topics\n",
    "- ```.set_reddit```: Set praw credentials\n",
    "    - Parameters: dictionary of credentials\n",
    "- ```.get_reddit```: Retrieve Reddits posts by subreddit\n",
    "    - Parameters: maximum number of posts retrieved, list of subreddits\n",
    "- ```.get_df```: Retrieve DataFrame, optionally write csv\n",
    "    - Parameters: boolean for writing csv, name of file to write"
   ]
  },
  {
   "cell_type": "code",
   "execution_count": 4,
   "metadata": {},
   "outputs": [
    {
     "name": "stdout",
     "output_type": "stream",
     "text": [
      "Python soups are ready!\n",
      "All Python hrefs are ready!\n",
      "Python finished!\n",
      "All topics finished!\n"
     ]
    }
   ],
   "source": [
    "scraper.get_stack_overflow(1, ['python'])"
   ]
  },
  {
   "cell_type": "code",
   "execution_count": 5,
   "metadata": {},
   "outputs": [
    {
     "name": "stdout",
     "output_type": "stream",
     "text": [
      "Subreddits searched: machinelearning\n",
      "Subreddits not searched: \n"
     ]
    }
   ],
   "source": [
    "scraper.set_reddit(config_dict)\n",
    "scraper.get_reddit(10, ['machinelearning'])"
   ]
  },
  {
   "cell_type": "code",
   "execution_count": 6,
   "metadata": {},
   "outputs": [],
   "source": [
    "df = scraper.get_df()"
   ]
  },
  {
   "cell_type": "code",
   "execution_count": 7,
   "metadata": {},
   "outputs": [
    {
     "data": {
      "text/html": [
       "<div>\n",
       "<style scoped>\n",
       "    .dataframe tbody tr th:only-of-type {\n",
       "        vertical-align: middle;\n",
       "    }\n",
       "\n",
       "    .dataframe tbody tr th {\n",
       "        vertical-align: top;\n",
       "    }\n",
       "\n",
       "    .dataframe thead th {\n",
       "        text-align: right;\n",
       "    }\n",
       "</style>\n",
       "<table border=\"1\" class=\"dataframe\">\n",
       "  <thead>\n",
       "    <tr style=\"text-align: right;\">\n",
       "      <th></th>\n",
       "      <th>questions</th>\n",
       "      <th>answers</th>\n",
       "    </tr>\n",
       "  </thead>\n",
       "  <tbody>\n",
       "    <tr>\n",
       "      <th>52</th>\n",
       "      <td>I am trying to better understand how shares wo...</td>\n",
       "      <td>Let's say the number of shares of a company is...</td>\n",
       "    </tr>\n",
       "    <tr>\n",
       "      <th>53</th>\n",
       "      <td>Hagrid is expelled from Hogwarts as a student,...</td>\n",
       "      <td>In The Chamber of Secrets, it is revealed that...</td>\n",
       "    </tr>\n",
       "    <tr>\n",
       "      <th>54</th>\n",
       "      <td>I have a new 2021 Cube Nuroad Race gravel bike...</td>\n",
       "      <td>You cannot get a higher gear ratio by replacin...</td>\n",
       "    </tr>\n",
       "    <tr>\n",
       "      <th>55</th>\n",
       "      <td>I've the following code.</td>\n",
       "      <td>The \\imath and \\jmath symbols don’t come from ...</td>\n",
       "    </tr>\n",
       "    <tr>\n",
       "      <th>56</th>\n",
       "      <td>I have a 10-1/2\" rise outside from my concrete...</td>\n",
       "      <td>Steps should always have uniform rise. In fact...</td>\n",
       "    </tr>\n",
       "  </tbody>\n",
       "</table>\n",
       "</div>"
      ],
      "text/plain": [
       "                                            questions  \\\n",
       "52  I am trying to better understand how shares wo...   \n",
       "53  Hagrid is expelled from Hogwarts as a student,...   \n",
       "54  I have a new 2021 Cube Nuroad Race gravel bike...   \n",
       "55                           I've the following code.   \n",
       "56  I have a 10-1/2\" rise outside from my concrete...   \n",
       "\n",
       "                                              answers  \n",
       "52  Let's say the number of shares of a company is...  \n",
       "53  In The Chamber of Secrets, it is revealed that...  \n",
       "54  You cannot get a higher gear ratio by replacin...  \n",
       "55  The \\imath and \\jmath symbols don’t come from ...  \n",
       "56  Steps should always have uniform rise. In fact...  "
      ]
     },
     "execution_count": 7,
     "metadata": {},
     "output_type": "execute_result"
    }
   ],
   "source": [
    "df.tail()"
   ]
  },
  {
   "cell_type": "code",
   "execution_count": null,
   "metadata": {},
   "outputs": [],
   "source": []
  }
 ],
 "metadata": {
  "kernelspec": {
   "display_name": "chatbot",
   "language": "python",
   "name": "chatbot"
  },
  "language_info": {
   "codemirror_mode": {
    "name": "ipython",
    "version": 3
   },
   "file_extension": ".py",
   "mimetype": "text/x-python",
   "name": "python",
   "nbconvert_exporter": "python",
   "pygments_lexer": "ipython3",
   "version": "3.7.7"
  }
 },
 "nbformat": 4,
 "nbformat_minor": 4
}
