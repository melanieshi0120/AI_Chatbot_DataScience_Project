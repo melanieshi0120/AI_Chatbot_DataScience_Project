{
 "cells": [
  {
   "cell_type": "markdown",
   "metadata": {},
   "source": [
    "# Notebook Demonstrating Scraper Object"
   ]
  },
  {
   "cell_type": "code",
   "execution_count": 4,
   "metadata": {},
   "outputs": [],
   "source": [
    "import project_path # Tells Python where the scraper module is located\n",
    "from src.scraper.scraper import QAScraper"
   ]
  },
  {
   "cell_type": "code",
   "execution_count": 6,
   "metadata": {},
   "outputs": [],
   "source": [
    "import configparser\n",
    "\n",
    "config = configparser.ConfigParser()\n",
    "config.read('config.ini')\n",
    "\n",
    "# Dictionary with praw (Python Reddit API Wrapper) credentials\n",
    "config_dict = {\n",
    "    'client_id': config.get('reddit', 'ID'),\n",
    "    'client_secret': config.get('reddit', 'SECRET'),\n",
    "    'username': config.get('reddit', 'USERNAME'),\n",
    "    'password': config.get('reddit', 'PASSWORD'),\n",
    "    'user_agent': config.get('reddit', 'AGENT'),\n",
    "}"
   ]
  },
  {
   "cell_type": "code",
   "execution_count": 7,
   "metadata": {},
   "outputs": [],
   "source": [
    "scraper = QAScraper()"
   ]
  },
  {
   "cell_type": "markdown",
   "metadata": {},
   "source": [
    "## How to use scraper\n",
    "The scraper can retrieve Stack Overflow queries by topic and posts on Reddit by subreddit.\n",
    "\n",
    "Methods:\n",
    "- ```.get_stack_overflow```: Retrieve Stack Overflow queries by topic\n",
    "    - Parameters: maximum number of pages retrieved, list of topics\n",
    "- ```.set_reddit```: Set praw credentials\n",
    "    - Parameters: dictionary of credentials\n",
    "- ```.get_reddit```: Retrieve Reddits posts by subreddit\n",
    "    - Parameters: maximum number of posts retrieved, list of subreddits\n",
    "- ```.get_df```: Retrieve DataFrame, optionally write csv\n",
    "    - Parameters: boolean for writing csv, name of file to write"
   ]
  },
  {
   "cell_type": "code",
   "execution_count": 8,
   "metadata": {},
   "outputs": [
    {
     "name": "stdout",
     "output_type": "stream",
     "text": [
      "Python soups are ready!\n",
      "All Python hrefs are ready!\n",
      "Python finished!\n",
      "All topics finished!\n"
     ]
    }
   ],
   "source": [
    "scraper.get_stack_overflow(1, ['python'])"
   ]
  },
  {
   "cell_type": "code",
   "execution_count": 9,
   "metadata": {},
   "outputs": [
    {
     "name": "stdout",
     "output_type": "stream",
     "text": [
      "Subreddits searched: machinelearning\n",
      "Subreddits not searched: \n"
     ]
    }
   ],
   "source": [
    "scraper.set_reddit(config_dict)\n",
    "scraper.get_reddit(10, ['machinelearning'])"
   ]
  },
  {
   "cell_type": "code",
   "execution_count": 10,
   "metadata": {},
   "outputs": [],
   "source": [
    "df = scraper.get_df()"
   ]
  },
  {
   "cell_type": "code",
   "execution_count": 11,
   "metadata": {},
   "outputs": [
    {
     "data": {
      "text/html": [
       "<div>\n",
       "<style scoped>\n",
       "    .dataframe tbody tr th:only-of-type {\n",
       "        vertical-align: middle;\n",
       "    }\n",
       "\n",
       "    .dataframe tbody tr th {\n",
       "        vertical-align: top;\n",
       "    }\n",
       "\n",
       "    .dataframe thead th {\n",
       "        text-align: right;\n",
       "    }\n",
       "</style>\n",
       "<table border=\"1\" class=\"dataframe\">\n",
       "  <thead>\n",
       "    <tr style=\"text-align: right;\">\n",
       "      <th></th>\n",
       "      <th>questions</th>\n",
       "      <th>answers</th>\n",
       "    </tr>\n",
       "  </thead>\n",
       "  <tbody>\n",
       "    <tr>\n",
       "      <th>54</th>\n",
       "      <td>I have several blank pages in between already ...</td>\n",
       "      <td>A page is blank if it has nothing on it. Stamp...</td>\n",
       "    </tr>\n",
       "    <tr>\n",
       "      <th>55</th>\n",
       "      <td>I have been preparing for a very important exa...</td>\n",
       "      <td>What you experience is totally normal.</td>\n",
       "    </tr>\n",
       "    <tr>\n",
       "      <th>56</th>\n",
       "      <td>I have recently developed an interest in bird ...</td>\n",
       "      <td>Colour is only one of several visual clues for...</td>\n",
       "    </tr>\n",
       "    <tr>\n",
       "      <th>57</th>\n",
       "      <td>I'm currently studying the textbook Introducti...</td>\n",
       "      <td>The difference is that for navie Bayes you are...</td>\n",
       "    </tr>\n",
       "    <tr>\n",
       "      <th>58</th>\n",
       "      <td>[D] how does tensorflow.keras work with multip...</td>\n",
       "      <td>Actually the docs give a good explanation here...</td>\n",
       "    </tr>\n",
       "  </tbody>\n",
       "</table>\n",
       "</div>"
      ],
      "text/plain": [
       "                                            questions  \\\n",
       "54  I have several blank pages in between already ...   \n",
       "55  I have been preparing for a very important exa...   \n",
       "56  I have recently developed an interest in bird ...   \n",
       "57  I'm currently studying the textbook Introducti...   \n",
       "58  [D] how does tensorflow.keras work with multip...   \n",
       "\n",
       "                                              answers  \n",
       "54  A page is blank if it has nothing on it. Stamp...  \n",
       "55             What you experience is totally normal.  \n",
       "56  Colour is only one of several visual clues for...  \n",
       "57  The difference is that for navie Bayes you are...  \n",
       "58  Actually the docs give a good explanation here...  "
      ]
     },
     "execution_count": 11,
     "metadata": {},
     "output_type": "execute_result"
    }
   ],
   "source": [
    "df.tail()"
   ]
  },
  {
   "cell_type": "code",
   "execution_count": null,
   "metadata": {},
   "outputs": [],
   "source": []
  }
 ],
 "metadata": {
  "kernelspec": {
   "display_name": "chatbot",
   "language": "python",
   "name": "chatbot"
  },
  "language_info": {
   "codemirror_mode": {
    "name": "ipython",
    "version": 3
   },
   "file_extension": ".py",
   "mimetype": "text/x-python",
   "name": "python",
   "nbconvert_exporter": "python",
   "pygments_lexer": "ipython3",
   "version": "3.7.7"
  }
 },
 "nbformat": 4,
 "nbformat_minor": 4
}
